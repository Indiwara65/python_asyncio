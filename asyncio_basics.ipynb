{
 "cells": [
  {
   "cell_type": "markdown",
   "metadata": {},
   "source": [
    "## Asyncio           \n",
    "* Asycio is a library that helps to run many task asyncronously. Many tasks can be runned at the same time even if one task is not completed.         \n",
    "*  There are three main concepts in asyncio -             \n",
    "    * Eventloop - \n",
    "        * Core that manages executing asncronous tasks, the event loop runs in a single thread and contonously checks for tasks that are ready to be executed.          \n",
    "        * The event loop schedules and manages the execution of multiple coroutines. When a coroutine encounters an await expression (usually an I/O operation), the event loop pauses its execution and moves on to the next task, resuming the original coroutine once the awaited operation is complete.                       \n",
    "    * Asyncronous Tasks - asyncronous tasks are operations or pieces of code that can run concurrently. Asyncronous tasks include couroutines, futures, callbacks, etc..          \n",
    "    * Running Asyncronous Tasks - there are different methods that can be used to run the asyncronous tasks. "
   ]
  },
  {
   "cell_type": "code",
   "execution_count": 26,
   "metadata": {},
   "outputs": [
    {
     "name": "stdout",
     "output_type": "stream",
     "text": [
      "<function main at 0x000001DE3882C220>\n"
     ]
    }
   ],
   "source": [
    "import asyncio\n",
    "import nest_asyncio\n",
    "import time\n",
    "\n",
    "nest_asyncio.apply()  # This allows nested asyncio loops in Jupyter\n",
    "\n",
    "async def main():\n",
    "    print(\"Start of main coroutine\")\n",
    "\n",
    "# here main is a coroutine \n",
    "print(main)"
   ]
  },
  {
   "cell_type": "markdown",
   "metadata": {},
   "source": [
    "#### asyncio.run()             \n",
    "* **Purpose**: asyncio.run() is a function that runs an entire asyncio program. It is designed to be called at the entry point of an asynchronous program to execute a coroutine, setting up the event loop, running the coroutine, and then closing the loop when the coroutine finishes.            \n",
    "* **Context**: asyncio.run() is typically used in scripts or programs where you need to start and manage an event loop. It should be called only once in the main entry point of the program, not from within an already running event loop."
   ]
  },
  {
   "cell_type": "code",
   "execution_count": 9,
   "metadata": {},
   "outputs": [
    {
     "name": "stdout",
     "output_type": "stream",
     "text": [
      "Start of main coroutine\n"
     ]
    }
   ],
   "source": [
    "#executing coroutine\n",
    "asyncio.run(main())"
   ]
  },
  {
   "cell_type": "markdown",
   "metadata": {},
   "source": [
    "#### await              \n",
    "* **Purpose**: await is an expression used to pause the execution of a coroutine until the awaited asynchronous operation completes. It is used within coroutines to wait for the result of other coroutines, futures, or any asynchronous task.                                 \n",
    "* **Context**: await can only be used inside a coroutine (i.e., inside a function defined with async def). It is not responsible for managing the event loop but is used to yield control back to the event loop, allowing other tasks to run while waiting."
   ]
  },
  {
   "cell_type": "code",
   "execution_count": 22,
   "metadata": {},
   "outputs": [],
   "source": [
    "async def fetch_data(delay, id):\n",
    "    print(\"Fetching.....\")\n",
    "    #await\n",
    "    #this can be a IO or some other task that requires to completed before the code below is excecuted.\n",
    "    #at the await command the control is given back to the eventloop\n",
    "    await asyncio.sleep(delay)  \n",
    "    print(\"Data fetched\")\n",
    "    return {\"data\":'010110', \"id\":id}\n"
   ]
  },
  {
   "cell_type": "code",
   "execution_count": 23,
   "metadata": {},
   "outputs": [
    {
     "name": "stdout",
     "output_type": "stream",
     "text": [
      "Start of main coroutine\n",
      "Fetching.....\n",
      "Data fetched\n",
      "Recived data = {'data': '010110', 'id': 0}\n",
      "End of coroutine\n"
     ]
    }
   ],
   "source": [
    "async def main():\n",
    "    print(\"Start of main coroutine\")\n",
    "    task_1 = fetch_data(0.5, 0)\n",
    "    data = await task_1\n",
    "    print(f\"Recived data = {data}\")\n",
    "    print(\"End of coroutine\")\n",
    "\n",
    "asyncio.run(main())"
   ]
  },
  {
   "cell_type": "code",
   "execution_count": 29,
   "metadata": {},
   "outputs": [
    {
     "name": "stdout",
     "output_type": "stream",
     "text": [
      "Start of main coroutine\n",
      "Fetching.....\n",
      "Data fetched\n",
      "Recived data = {'data': '010110', 'id': 0}\n",
      "Fetching.....\n",
      "Data fetched\n",
      "Recived data = {'data': '010110', 'id': 1}\n",
      "End of main coroutine\n",
      "Time elapsed = 1.508040428161621\n"
     ]
    }
   ],
   "source": [
    "async def main():\n",
    "    time_1 = time.time()\n",
    "    print(\"Start of main coroutine\")\n",
    "    task_1 = fetch_data(0.5, 0)\n",
    "    task_2 = fetch_data(1, 1)\n",
    "    data_1 = await task_1\n",
    "    #here task_1 blocks the entire eventloop()\n",
    "    print(f\"Recived data = {data_1}\")\n",
    "    data_2 = await task_2\n",
    "    print(f\"Recived data = {data_2}\")\n",
    "    time_2= time.time()\n",
    "    print(\"End of main coroutine\")\n",
    "    print(f\"Time elapsed = {time_2-time_1}\")\n",
    "asyncio.run(main())"
   ]
  },
  {
   "cell_type": "markdown",
   "metadata": {},
   "source": [
    "#### asyncio.create_task              \n",
    "* This function is used to create a task in the main loop. After a task is created the task will start executing when the eventloop meets the next await."
   ]
  },
  {
   "cell_type": "code",
   "execution_count": 33,
   "metadata": {},
   "outputs": [
    {
     "name": "stdout",
     "output_type": "stream",
     "text": [
      "Start of main coroutine\n",
      "Tasks created\n",
      "Coroutine 0 starting to fetch data.\n",
      "Coroutine 1 starting to fetch data.\n",
      "Recived data = {'data': '010110', 'id': 0}\n",
      "Recived data = {'data': '010110', 'id': 1}\n",
      "End of main coroutine\n",
      "Time elapsed = 1.0191750526428223\n"
     ]
    }
   ],
   "source": [
    "async def fetch_data(delay, id):\n",
    "    print(f\"Coroutine {id} starting to fetch data.\")\n",
    "    await asyncio.sleep(delay)\n",
    "    return {\"data\":'010110', \"id\":id}\n",
    "\n",
    "async def main():\n",
    "    time_1 = time.time()\n",
    "    print(\"Start of main coroutine\")\n",
    "    task_1 = asyncio.create_task(fetch_data(0.5, 0))\n",
    "    task_2 = asyncio.create_task(fetch_data(1, 1))\n",
    "    #now fething data  tasks are created it waits for a await in the eventloop to start executing\n",
    "    print(f\"Tasks created\")\n",
    "    data_1 = await task_1\n",
    "    print(f\"Recived data = {data_1}\")\n",
    "    data_2 = await task_2\n",
    "    print(f\"Recived data = {data_2}\")\n",
    "    time_2= time.time()\n",
    "    print(\"End of main coroutine\")\n",
    "    print(f\"Time elapsed = {time_2-time_1}\")\n",
    "asyncio.run(main())"
   ]
  },
  {
   "cell_type": "markdown",
   "metadata": {},
   "source": [
    "#### asyncio.gather()"
   ]
  },
  {
   "cell_type": "code",
   "execution_count": null,
   "metadata": {},
   "outputs": [],
   "source": []
  }
 ],
 "metadata": {
  "kernelspec": {
   "display_name": "venv",
   "language": "python",
   "name": "python3"
  },
  "language_info": {
   "codemirror_mode": {
    "name": "ipython",
    "version": 3
   },
   "file_extension": ".py",
   "mimetype": "text/x-python",
   "name": "python",
   "nbconvert_exporter": "python",
   "pygments_lexer": "ipython3",
   "version": "3.11.3"
  }
 },
 "nbformat": 4,
 "nbformat_minor": 2
}
